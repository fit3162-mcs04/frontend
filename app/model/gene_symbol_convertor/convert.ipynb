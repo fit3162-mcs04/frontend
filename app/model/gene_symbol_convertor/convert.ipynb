{
 "cells": [
  {
   "cell_type": "code",
   "execution_count": 1,
   "id": "39ef7d2a",
   "metadata": {},
   "outputs": [],
   "source": [
    "import pandas as pd\n",
    "\n",
    "# For tab-delimited text files\n",
    "df = pd.read_csv('illumina_identifier.txt', sep='\\t')\n",
    "\n",
    "# Or if it's space-delimited:\n",
    "# df = pd.read_csv('yourfile.txt', delim_whitespace=True)\n",
    "\n",
    "# Save as CSV\n",
    "df.to_csv('illumina_identifier.csv', index=False)"
   ]
  }
 ],
 "metadata": {
  "kernelspec": {
   "display_name": "base",
   "language": "python",
   "name": "python3"
  },
  "language_info": {
   "codemirror_mode": {
    "name": "ipython",
    "version": 3
   },
   "file_extension": ".py",
   "mimetype": "text/x-python",
   "name": "python",
   "nbconvert_exporter": "python",
   "pygments_lexer": "ipython3",
   "version": "3.12.7"
  }
 },
 "nbformat": 4,
 "nbformat_minor": 5
}
